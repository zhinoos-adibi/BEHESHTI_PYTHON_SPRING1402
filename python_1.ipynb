{
 "cells": [
  {
   "cell_type": "markdown",
   "id": "1b3117c7",
   "metadata": {},
   "source": [
    "## python language"
   ]
  },
  {
   "cell_type": "code",
   "execution_count": null,
   "id": "f5afab16",
   "metadata": {},
   "outputs": [],
   "source": [
    "#first session\n",
    "# lkjlkj\n",
    "# kjhjkjk\n",
    "# kjjhjkh\n",
    "# ertertre\n",
    "# sdfesdfg\n",
    "# fdgrdgd"
   ]
  },
  {
   "cell_type": "markdown",
   "id": "7dd90688",
   "metadata": {},
   "source": [
    "## comment\n"
   ]
  },
  {
   "cell_type": "code",
   "execution_count": null,
   "id": "2a37b3a4",
   "metadata": {},
   "outputs": [],
   "source": [
    "# refrence:https://www.w3schools.com/python/python_comments.asp\n",
    "\n",
    "# Comments can be used to explain Python code.\n",
    "\n",
    "# Comments can be used to make the code more readable.\n",
    "\n",
    "# Comments can be used to prevent execution when testing code.\n",
    "\n"
   ]
  },
  {
   "cell_type": "code",
   "execution_count": null,
   "id": "634caf05",
   "metadata": {},
   "outputs": [],
   "source": [
    "# this is a comment"
   ]
  },
  {
   "cell_type": "code",
   "execution_count": null,
   "id": "050a9c31",
   "metadata": {},
   "outputs": [],
   "source": [
    "# comment2\n",
    "#comment2"
   ]
  },
  {
   "cell_type": "markdown",
   "id": "b1ae46ad",
   "metadata": {},
   "source": [
    "## variables"
   ]
  },
  {
   "cell_type": "code",
   "execution_count": 1,
   "id": "af9d1bf8",
   "metadata": {},
   "outputs": [
    {
     "name": "stdout",
     "output_type": "stream",
     "text": [
      "56\n"
     ]
    }
   ],
   "source": [
    "x= 56\n",
    "print(x)"
   ]
  },
  {
   "cell_type": "code",
   "execution_count": 2,
   "id": "e5de075d",
   "metadata": {},
   "outputs": [
    {
     "name": "stdout",
     "output_type": "stream",
     "text": [
      "5.9\n"
     ]
    }
   ],
   "source": [
    "x= 5.9\n",
    "print(x)"
   ]
  },
  {
   "cell_type": "code",
   "execution_count": 5,
   "id": "68c054ec",
   "metadata": {},
   "outputs": [
    {
     "data": {
      "text/plain": [
       "int"
      ]
     },
     "execution_count": 5,
     "metadata": {},
     "output_type": "execute_result"
    }
   ],
   "source": [
    "y = int(5.9)\n",
    "type(y)"
   ]
  },
  {
   "cell_type": "code",
   "execution_count": 6,
   "id": "bf7ad969",
   "metadata": {},
   "outputs": [
    {
     "name": "stdout",
     "output_type": "stream",
     "text": [
      "python\n"
     ]
    }
   ],
   "source": [
    "x= \"python\"\n",
    "# y = 99\n",
    "print(x)"
   ]
  },
  {
   "cell_type": "code",
   "execution_count": 7,
   "id": "c8554511",
   "metadata": {},
   "outputs": [
    {
     "name": "stdout",
     "output_type": "stream",
     "text": [
      "python\n"
     ]
    }
   ],
   "source": [
    "x= 'python'\n",
    "print(x)"
   ]
  },
  {
   "cell_type": "code",
   "execution_count": 29,
   "id": "6472ec14",
   "metadata": {},
   "outputs": [
    {
     "name": "stdout",
     "output_type": "stream",
     "text": [
      "8\n",
      "8.3\n"
     ]
    },
    {
     "data": {
      "text/plain": [
       "int"
      ]
     },
     "execution_count": 29,
     "metadata": {},
     "output_type": "execute_result"
    }
   ],
   "source": [
    "x= 8.3\n",
    "y = int(x)\n",
    "z =str(x)\n",
    "print(y)\n",
    "print(z)\n",
    "type(z)\n",
    "type(y)"
   ]
  },
  {
   "cell_type": "markdown",
   "id": "d06af2f3",
   "metadata": {},
   "source": [
    "## list\n",
    "#### refrence : https://www.w3schools.com/python/python_lists.asp"
   ]
  },
  {
   "cell_type": "code",
   "execution_count": null,
   "id": "9d0abc41",
   "metadata": {},
   "outputs": [],
   "source": [
    "# Ordered\n",
    "\n",
    "# When we say that lists are ordered, it means that the items have a defined order, and that order will not change.\n",
    "\n",
    "# If you add new items to a list, the new items will be placed at the end of the list.\n"
   ]
  },
  {
   "cell_type": "code",
   "execution_count": null,
   "id": "773e0a47",
   "metadata": {},
   "outputs": [],
   "source": [
    "# Changeable\n",
    "\n",
    "# The list is changeable, meaning that we can change, add, and remove items in a list after it has been created.\n",
    "\n"
   ]
  },
  {
   "cell_type": "code",
   "execution_count": null,
   "id": "87e13130",
   "metadata": {},
   "outputs": [],
   "source": [
    "# Allow Duplicates\n",
    "# Since lists are indexed, lists can have items with the same value\n"
   ]
  },
  {
   "cell_type": "markdown",
   "id": "09a6453d",
   "metadata": {},
   "source": [
    "## define list"
   ]
  },
  {
   "cell_type": "code",
   "execution_count": 9,
   "id": "235e9491",
   "metadata": {},
   "outputs": [
    {
     "data": {
      "text/plain": [
       "'b'"
      ]
     },
     "execution_count": 9,
     "metadata": {},
     "output_type": "execute_result"
    }
   ],
   "source": [
    "# list\n",
    "my_list= [\"a\",\"b\",\"c\",\"d\",\"d\",\"d\"]\n",
    "my_list[1]"
   ]
  },
  {
   "cell_type": "code",
   "execution_count": null,
   "id": "f00f7562",
   "metadata": {},
   "outputs": [],
   "source": [
    "print(my_list)"
   ]
  },
  {
   "cell_type": "code",
   "execution_count": 10,
   "id": "3765d6d4",
   "metadata": {},
   "outputs": [
    {
     "data": {
      "text/plain": [
       "6"
      ]
     },
     "execution_count": 10,
     "metadata": {},
     "output_type": "execute_result"
    }
   ],
   "source": [
    "len(my_list)"
   ]
  },
  {
   "cell_type": "code",
   "execution_count": 31,
   "id": "34da29e9",
   "metadata": {},
   "outputs": [
    {
     "data": {
      "text/plain": [
       "list"
      ]
     },
     "execution_count": 31,
     "metadata": {},
     "output_type": "execute_result"
    }
   ],
   "source": [
    "type(my_list)"
   ]
  },
  {
   "cell_type": "markdown",
   "id": "db040906",
   "metadata": {},
   "source": [
    "## access items in list"
   ]
  },
  {
   "cell_type": "code",
   "execution_count": 12,
   "id": "9b67e605",
   "metadata": {},
   "outputs": [
    {
     "data": {
      "text/plain": [
       "['a', 'b', 'c', 'd', 'e', 'f', 'g', 4, 5]"
      ]
     },
     "execution_count": 12,
     "metadata": {},
     "output_type": "execute_result"
    }
   ],
   "source": [
    "my_list2 = [\"a\",\"b\",\"c\",\"d\",\"e\",\"f\",\"g\",4,5]\n",
    "my_list"
   ]
  },
  {
   "cell_type": "code",
   "execution_count": 13,
   "id": "990a70a3",
   "metadata": {},
   "outputs": [
    {
     "data": {
      "text/plain": [
       "'b'"
      ]
     },
     "execution_count": 13,
     "metadata": {},
     "output_type": "execute_result"
    }
   ],
   "source": [
    "my_list2[1]"
   ]
  },
  {
   "cell_type": "code",
   "execution_count": 14,
   "id": "1332b72c",
   "metadata": {},
   "outputs": [
    {
     "data": {
      "text/plain": [
       "5"
      ]
     },
     "execution_count": 14,
     "metadata": {},
     "output_type": "execute_result"
    }
   ],
   "source": [
    "my_list2[-1]"
   ]
  },
  {
   "cell_type": "code",
   "execution_count": 15,
   "id": "0b534235",
   "metadata": {},
   "outputs": [
    {
     "data": {
      "text/plain": [
       "4"
      ]
     },
     "execution_count": 15,
     "metadata": {},
     "output_type": "execute_result"
    }
   ],
   "source": [
    "my_list2[-2]"
   ]
  },
  {
   "cell_type": "code",
   "execution_count": 16,
   "id": "11034443",
   "metadata": {},
   "outputs": [
    {
     "data": {
      "text/plain": [
       "['a', 'b']"
      ]
     },
     "execution_count": 16,
     "metadata": {},
     "output_type": "execute_result"
    }
   ],
   "source": [
    "\n",
    "my_list2[:2]"
   ]
  },
  {
   "cell_type": "code",
   "execution_count": 22,
   "id": "d515dd42",
   "metadata": {},
   "outputs": [
    {
     "data": {
      "text/plain": [
       "['a', 'b', 'c', 'd', 'd', 'd']"
      ]
     },
     "execution_count": 22,
     "metadata": {},
     "output_type": "execute_result"
    }
   ],
   "source": [
    "my_list"
   ]
  },
  {
   "cell_type": "code",
   "execution_count": 20,
   "id": "a4e8a8a3",
   "metadata": {},
   "outputs": [],
   "source": [
    "# my_list2[2:]"
   ]
  },
  {
   "cell_type": "code",
   "execution_count": 25,
   "id": "e640603d",
   "metadata": {},
   "outputs": [
    {
     "data": {
      "text/plain": [
       "['a', 'b', 'c', 'd', 'e', 'f', 'g', 'h']"
      ]
     },
     "execution_count": 25,
     "metadata": {},
     "output_type": "execute_result"
    }
   ],
   "source": [
    "my_list_3= [\"a\",'b','c','d','e','f','g','h']\n",
    "my_list_3"
   ]
  },
  {
   "cell_type": "code",
   "execution_count": 26,
   "id": "2ede2984",
   "metadata": {},
   "outputs": [
    {
     "data": {
      "text/plain": [
       "['c', 'd', 'e']"
      ]
     },
     "execution_count": 26,
     "metadata": {},
     "output_type": "execute_result"
    }
   ],
   "source": [
    "my_list_3[2:5]"
   ]
  },
  {
   "cell_type": "code",
   "execution_count": 37,
   "id": "b441dd42",
   "metadata": {},
   "outputs": [
    {
     "data": {
      "text/plain": [
       "4"
      ]
     },
     "execution_count": 37,
     "metadata": {},
     "output_type": "execute_result"
    }
   ],
   "source": [
    "my_list2[-2]"
   ]
  },
  {
   "cell_type": "code",
   "execution_count": 38,
   "id": "62e44b7a",
   "metadata": {},
   "outputs": [
    {
     "data": {
      "text/plain": [
       "['f', 'g', 4]"
      ]
     },
     "execution_count": 38,
     "metadata": {},
     "output_type": "execute_result"
    }
   ],
   "source": [
    "my_list2[-4:-1]"
   ]
  },
  {
   "cell_type": "code",
   "execution_count": 39,
   "id": "decb676b",
   "metadata": {},
   "outputs": [
    {
     "data": {
      "text/plain": [
       "1"
      ]
     },
     "execution_count": 39,
     "metadata": {},
     "output_type": "execute_result"
    }
   ],
   "source": [
    "y =  [ 1,3,4]\n",
    "y[-3]\n"
   ]
  },
  {
   "cell_type": "markdown",
   "id": "15463848",
   "metadata": {},
   "source": [
    "## *session2*"
   ]
  },
  {
   "cell_type": "markdown",
   "id": "6db78eaa",
   "metadata": {},
   "source": [
    "## Insert Items\n"
   ]
  },
  {
   "cell_type": "code",
   "execution_count": 27,
   "id": "d84a5c33",
   "metadata": {},
   "outputs": [
    {
     "data": {
      "text/plain": [
       "['a', 'b', 'c', 'd', 'e', 'f', 'g', 4, 5]"
      ]
     },
     "execution_count": 27,
     "metadata": {},
     "output_type": "execute_result"
    }
   ],
   "source": [
    "my_list2 = [\"a\",\"b\",\"c\",\"d\",\"e\",\"f\",\"g\",4,5]\n",
    "my_list2"
   ]
  },
  {
   "cell_type": "code",
   "execution_count": 28,
   "id": "869922a1",
   "metadata": {},
   "outputs": [],
   "source": [
    "my_list2.insert(2,\"aa\")\n"
   ]
  },
  {
   "cell_type": "code",
   "execution_count": 29,
   "id": "6a5d5949",
   "metadata": {},
   "outputs": [
    {
     "data": {
      "text/plain": [
       "['a', 'b', 'aa', 'c', 'd', 'e', 'f', 'g', 4, 5]"
      ]
     },
     "execution_count": 29,
     "metadata": {},
     "output_type": "execute_result"
    }
   ],
   "source": [
    "my_list2"
   ]
  },
  {
   "cell_type": "code",
   "execution_count": 43,
   "id": "92dbaf98",
   "metadata": {},
   "outputs": [
    {
     "data": {
      "text/plain": [
       "10"
      ]
     },
     "execution_count": 43,
     "metadata": {},
     "output_type": "execute_result"
    }
   ],
   "source": [
    "len(my_list2)"
   ]
  },
  {
   "cell_type": "markdown",
   "id": "fd413fa7",
   "metadata": {},
   "source": [
    "## append method"
   ]
  },
  {
   "cell_type": "code",
   "execution_count": 30,
   "id": "d1d7c332",
   "metadata": {},
   "outputs": [
    {
     "name": "stdout",
     "output_type": "stream",
     "text": [
      "['a', 'b', 'aa', 'c', 'd', 'e', 'f', 'g', 4, 5, 1000]\n"
     ]
    }
   ],
   "source": [
    "my_list2.append(1000)\n",
    "print(my_list2)"
   ]
  },
  {
   "cell_type": "markdown",
   "id": "6251d591",
   "metadata": {},
   "source": [
    "## remove method"
   ]
  },
  {
   "cell_type": "code",
   "execution_count": 31,
   "id": "6e29cb56",
   "metadata": {},
   "outputs": [],
   "source": [
    "my_list2.remove('d')"
   ]
  },
  {
   "cell_type": "code",
   "execution_count": 32,
   "id": "02fe14fe",
   "metadata": {},
   "outputs": [
    {
     "data": {
      "text/plain": [
       "['a', 'b', 'aa', 'c', 'e', 'f', 'g', 4, 5, 1000]"
      ]
     },
     "execution_count": 32,
     "metadata": {},
     "output_type": "execute_result"
    }
   ],
   "source": [
    "my_list2"
   ]
  },
  {
   "cell_type": "markdown",
   "id": "1181b74d",
   "metadata": {},
   "source": [
    "## pop method"
   ]
  },
  {
   "cell_type": "code",
   "execution_count": 38,
   "id": "8d3591ce",
   "metadata": {},
   "outputs": [],
   "source": [
    "list_new = [\"a\",\"b\",\"c\"]"
   ]
  },
  {
   "cell_type": "code",
   "execution_count": 39,
   "id": "182a87f8",
   "metadata": {},
   "outputs": [
    {
     "name": "stdout",
     "output_type": "stream",
     "text": [
      "c\n"
     ]
    }
   ],
   "source": [
    "var_1 = list_new.pop(2)\n",
    "print(var_1)"
   ]
  },
  {
   "cell_type": "code",
   "execution_count": 41,
   "id": "32b2f0b6",
   "metadata": {},
   "outputs": [
    {
     "data": {
      "text/plain": [
       "['bb', 'b']"
      ]
     },
     "execution_count": 41,
     "metadata": {},
     "output_type": "execute_result"
    }
   ],
   "source": [
    "list_new[0] = \"bb\"\n",
    "list_new"
   ]
  },
  {
   "cell_type": "code",
   "execution_count": 42,
   "id": "56f7c358",
   "metadata": {},
   "outputs": [],
   "source": [
    "# # my_list2.pop(2)\n",
    "# var_1 = list_new.pop(2)\n",
    "# print(list_new)\n",
    "# print(var_1)"
   ]
  },
  {
   "cell_type": "code",
   "execution_count": 47,
   "id": "5efee0f7",
   "metadata": {},
   "outputs": [
    {
     "name": "stdout",
     "output_type": "stream",
     "text": [
      "['a', 'b', 'c', 'e', 'f', 'g', 4, 5]\n"
     ]
    }
   ],
   "source": [
    "print(my_list2)"
   ]
  },
  {
   "cell_type": "code",
   "execution_count": 48,
   "id": "0e181a54",
   "metadata": {},
   "outputs": [
    {
     "name": "stdout",
     "output_type": "stream",
     "text": [
      "33 \n",
      "\n",
      "\n",
      "\n",
      " 98\n"
     ]
    }
   ],
   "source": [
    "a= 33\n",
    "b = 98\n",
    "print(a,\"\\n\\n\\n\\n\",b)"
   ]
  },
  {
   "cell_type": "code",
   "execution_count": 15,
   "id": "792a0a8f",
   "metadata": {},
   "outputs": [
    {
     "name": "stdout",
     "output_type": "stream",
     "text": [
      "bb\n"
     ]
    }
   ],
   "source": [
    "mynew_list = [\"aa\",\"bb\",\"cc\"]\n",
    "var_2=mynew_list.pop(1)\n",
    "print(var_2)"
   ]
  },
  {
   "cell_type": "code",
   "execution_count": 16,
   "id": "3b29da3c",
   "metadata": {},
   "outputs": [
    {
     "name": "stdout",
     "output_type": "stream",
     "text": [
      "['aa', 'cc']\n"
     ]
    }
   ],
   "source": [
    "print(mynew_list)"
   ]
  },
  {
   "cell_type": "code",
   "execution_count": null,
   "id": "51a08394",
   "metadata": {},
   "outputs": [],
   "source": [
    "# If you do not specify the index, the pop() method removes the last item."
   ]
  },
  {
   "cell_type": "markdown",
   "id": "3c477e21",
   "metadata": {},
   "source": [
    "### Check if Item Exists in list\n",
    "### Use the in keyword ,to determine if a specified item is present in a list :"
   ]
  },
  {
   "cell_type": "code",
   "execution_count": 17,
   "id": "c14e3b13",
   "metadata": {},
   "outputs": [
    {
     "name": "stdout",
     "output_type": "stream",
     "text": [
      "Yes, 'java' is in the language list\n"
     ]
    }
   ],
   "source": [
    "language = [\"C++\", \"python\", \"java\"]\n",
    "if \"java\" in language:\n",
    "    print(\"Yes, 'java' is in the language list\")"
   ]
  },
  {
   "cell_type": "markdown",
   "id": "ae466df1",
   "metadata": {},
   "source": [
    "## Loop Through a List"
   ]
  },
  {
   "cell_type": "code",
   "execution_count": 45,
   "id": "642a3c31",
   "metadata": {},
   "outputs": [
    {
     "name": "stdout",
     "output_type": "stream",
     "text": [
      "C++\n",
      "python\n",
      "java\n"
     ]
    }
   ],
   "source": [
    "language = [\"C++\", \"python\", \"java\"]\n",
    "for item in language:\n",
    "\n",
    "    print(item)"
   ]
  },
  {
   "cell_type": "markdown",
   "id": "f18cfaee",
   "metadata": {},
   "source": [
    "## Loop Through the Index Numbers"
   ]
  },
  {
   "cell_type": "code",
   "execution_count": 46,
   "id": "fb9e221f",
   "metadata": {},
   "outputs": [
    {
     "name": "stdout",
     "output_type": "stream",
     "text": [
      "C++\n",
      "python\n",
      "java\n"
     ]
    }
   ],
   "source": [
    "language = [\"C++\", \"python\", \"java\"]\n",
    "for i in range(len(language)):\n",
    "    print(language[i])"
   ]
  },
  {
   "cell_type": "markdown",
   "id": "29457e45",
   "metadata": {},
   "source": [
    "## Using a While Loop"
   ]
  },
  {
   "cell_type": "code",
   "execution_count": 21,
   "id": "8cea097d",
   "metadata": {},
   "outputs": [
    {
     "name": "stdout",
     "output_type": "stream",
     "text": [
      "C++\n",
      "python\n",
      "java\n"
     ]
    }
   ],
   "source": [
    "language = [\"C++\", \"python\", \"java\"]\n",
    "i = 0\n",
    "while i < len(language):\n",
    "    print(language[i])\n",
    "    i = i + 1"
   ]
  },
  {
   "cell_type": "markdown",
   "id": "124a9e4a",
   "metadata": {},
   "source": [
    "## Looping Using List Comprehension\n",
    "### List Comprehension offers the shortest syntax for looping through lists"
   ]
  },
  {
   "cell_type": "code",
   "execution_count": 47,
   "id": "31223e60",
   "metadata": {},
   "outputs": [
    {
     "name": "stdout",
     "output_type": "stream",
     "text": [
      "['C++', 'python']\n"
     ]
    }
   ],
   "source": [
    "language = [\"C++\", \"python\", \"java\"]\n",
    "newlist = [x for x in language if x != \"java\"]\n",
    "print(newlist)"
   ]
  },
  {
   "cell_type": "code",
   "execution_count": 50,
   "id": "a3cc30aa",
   "metadata": {},
   "outputs": [
    {
     "name": "stdout",
     "output_type": "stream",
     "text": [
      "['python', 'python', 'python']\n"
     ]
    }
   ],
   "source": [
    "# language = [\"C++\", \"python\", \"java\"]\n",
    "# newlist = [x for y in language if x != \"java\"]\n",
    "# print(newlist)"
   ]
  },
  {
   "cell_type": "code",
   "execution_count": 55,
   "id": "f30b1017",
   "metadata": {},
   "outputs": [
    {
     "name": "stdout",
     "output_type": "stream",
     "text": [
      "['python', 'python']\n"
     ]
    }
   ],
   "source": [
    "# language = [\"C++\", \"python\", \"java\"]\n",
    "# language\n",
    "# newlist = [x for y in language if y != \"java\"]\n",
    "# print(newlist)"
   ]
  },
  {
   "cell_type": "code",
   "execution_count": 49,
   "id": "902901eb",
   "metadata": {},
   "outputs": [],
   "source": [
    "ll= [\"hassdan\",\"ali\"]\n",
    "if \"omid\" in ll :\n",
    "    print(\"ok\")"
   ]
  },
  {
   "cell_type": "markdown",
   "id": "e86b994f",
   "metadata": {},
   "source": [
    "## examples"
   ]
  },
  {
   "cell_type": "code",
   "execution_count": 56,
   "id": "169edd7b",
   "metadata": {},
   "outputs": [
    {
     "name": "stdout",
     "output_type": "stream",
     "text": [
      "[1, 5, 9, 13]\n"
     ]
    }
   ],
   "source": [
    "list_1 = [1,2,5,6,8,9,12,134,13]\n",
    "\n",
    "list_2 = []\n",
    "for item in list_1:\n",
    "    if item%2 != 0 :\n",
    "        list_2.append(item)\n",
    "\n",
    "print(list_2)       \n",
    "    \n"
   ]
  },
  {
   "cell_type": "code",
   "execution_count": 24,
   "id": "58218a9b",
   "metadata": {},
   "outputs": [
    {
     "name": "stdout",
     "output_type": "stream",
     "text": [
      "[1, 5, 9, 13]\n"
     ]
    }
   ],
   "source": [
    "list_3 = [x for x in list_1 if x % 2 !=0]\n",
    "print(list_3)\n",
    "        "
   ]
  },
  {
   "cell_type": "code",
   "execution_count": null,
   "id": "12e486b3",
   "metadata": {},
   "outputs": [],
   "source": []
  }
 ],
 "metadata": {
  "kernelspec": {
   "display_name": "Python 3",
   "language": "python",
   "name": "python3"
  },
  "language_info": {
   "codemirror_mode": {
    "name": "ipython",
    "version": 3
   },
   "file_extension": ".py",
   "mimetype": "text/x-python",
   "name": "python",
   "nbconvert_exporter": "python",
   "pygments_lexer": "ipython3",
   "version": "3.9.6"
  }
 },
 "nbformat": 4,
 "nbformat_minor": 5
}
