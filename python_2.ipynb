{
 "cells": [
  {
   "cell_type": "markdown",
   "id": "ab78413a",
   "metadata": {},
   "source": [
    "## some points"
   ]
  },
  {
   "cell_type": "code",
   "execution_count": 21,
   "id": "24026727",
   "metadata": {},
   "outputs": [],
   "source": [
    "# useful sites\n",
    "# https://nocomplexity.com/documents/jupyterlab/keyboardshortcuts.html\n",
    "# www.geeksforgeeks.org\n",
    "#https://linuxhint.com/change-theme-jupyter-notebook/"
   ]
  },
  {
   "cell_type": "markdown",
   "id": "afc061fd",
   "metadata": {},
   "source": [
    "### shortcuts in jupyter notebook\n"
   ]
  },
  {
   "cell_type": "code",
   "execution_count": 14,
   "id": "48822a69",
   "metadata": {},
   "outputs": [],
   "source": [
    "# ESC + h shows the list of all shortcuts in jupyter notebook"
   ]
  },
  {
   "cell_type": "code",
   "execution_count": 1,
   "id": "a842545d",
   "metadata": {},
   "outputs": [
    {
     "name": "stdout",
     "output_type": "stream",
     "text": [
      "a     b      c      d\n"
     ]
    }
   ],
   "source": [
    "# define more than one variable in one line\n",
    "\n",
    "a , b , c, d = 4,5,6,7\n",
    "# ll =[\"bb\",\"vv\"]\n",
    "print(\"a\" , \"   \" , \"b\" , \"    \" , \"c\" , \"    \" , \"d\")\n",
    "\n"
   ]
  },
  {
   "cell_type": "markdown",
   "id": "0cc4dccf",
   "metadata": {},
   "source": [
    "## Some magic codes"
   ]
  },
  {
   "cell_type": "code",
   "execution_count": 2,
   "id": "bf968765",
   "metadata": {},
   "outputs": [
    {
     "name": "stdout",
     "output_type": "stream",
     "text": [
      "a\t b\t c\t d\t \n"
     ]
    }
   ],
   "source": [
    "%who"
   ]
  },
  {
   "cell_type": "code",
   "execution_count": 3,
   "id": "de5fbb3a",
   "metadata": {},
   "outputs": [
    {
     "name": "stdout",
     "output_type": "stream",
     "text": [
      "Variable   Type    Data/Info\n",
      "----------------------------\n",
      "a          int     4\n",
      "b          int     5\n",
      "c          int     6\n",
      "d          int     7\n"
     ]
    }
   ],
   "source": [
    "%whos"
   ]
  },
  {
   "cell_type": "code",
   "execution_count": null,
   "id": "92e2103d",
   "metadata": {},
   "outputs": [],
   "source": [
    "time.sleep(8)"
   ]
  },
  {
   "cell_type": "markdown",
   "id": "61d2e177",
   "metadata": {},
   "source": [
    "### hide out put"
   ]
  },
  {
   "cell_type": "code",
   "execution_count": 13,
   "id": "037848fc",
   "metadata": {},
   "outputs": [],
   "source": [
    "# we use o in output line"
   ]
  },
  {
   "cell_type": "code",
   "execution_count": 9,
   "id": "cdd7334e",
   "metadata": {},
   "outputs": [],
   "source": [
    "# we use pwd to know current dir\n",
    "# pwd"
   ]
  },
  {
   "cell_type": "markdown",
   "id": "4c65346d",
   "metadata": {},
   "source": [
    "Does Python allow casting?\n",
    "\n",
    "Python allows you to cast various data types into one another.\n",
    "\n",
    "This also allows you to specify a data type to a variable. \n",
    "This is called Python Casting.\n",
    "\n",
    "in below code we cast \"a\" to string that can print it with \"b\" ehich is string type."
   ]
  },
  {
   "cell_type": "code",
   "execution_count": 13,
   "id": "a6a28b72",
   "metadata": {},
   "outputs": [
    {
     "name": "stdout",
     "output_type": "stream",
     "text": [
      "98adibi\n"
     ]
    }
   ],
   "source": [
    "a= 98\n",
    "b= 'adibi' \n",
    "print(str(a) + b)"
   ]
  },
  {
   "cell_type": "code",
   "execution_count": 5,
   "id": "1895e9a9",
   "metadata": {},
   "outputs": [
    {
     "name": "stdout",
     "output_type": "stream",
     "text": [
      "9 adibi\n"
     ]
    }
   ],
   "source": [
    "aa = 9\n",
    "bb= 'adibi'\n",
    "print (str(aa) +\" \"+ bb)"
   ]
  },
  {
   "cell_type": "code",
   "execution_count": 11,
   "id": "426dc309",
   "metadata": {},
   "outputs": [
    {
     "name": "stdout",
     "output_type": "stream",
     "text": [
      "this is out put: 67\n"
     ]
    }
   ],
   "source": [
    "a = 67\n",
    "v = \"99\"\n",
    "print('this is out put:' + \" \"+ str(a) )"
   ]
  },
  {
   "cell_type": "code",
   "execution_count": 8,
   "id": "dc583dc6",
   "metadata": {},
   "outputs": [
    {
     "name": "stdout",
     "output_type": "stream",
     "text": [
      "the out put is  18\n"
     ]
    }
   ],
   "source": [
    "list_1 = [2,4,5,7]\n",
    "# output = sum(var)\n",
    "# print('the out put is' +\"  \" +str(output))\n"
   ]
  },
  {
   "cell_type": "markdown",
   "id": "5573b425",
   "metadata": {},
   "source": [
    "### find the index of list item"
   ]
  },
  {
   "cell_type": "code",
   "execution_count": 16,
   "id": "aba0765d",
   "metadata": {},
   "outputs": [
    {
     "data": {
      "text/plain": [
       "'b'"
      ]
     },
     "execution_count": 16,
     "metadata": {},
     "output_type": "execute_result"
    }
   ],
   "source": [
    "l_ = ['a','b','c']\n",
    "l_[1]"
   ]
  },
  {
   "cell_type": "code",
   "execution_count": 14,
   "id": "08db7b06",
   "metadata": {},
   "outputs": [
    {
     "data": {
      "text/plain": [
       "1"
      ]
     },
     "execution_count": 14,
     "metadata": {},
     "output_type": "execute_result"
    }
   ],
   "source": [
    "l_.index('b')"
   ]
  },
  {
   "cell_type": "code",
   "execution_count": 15,
   "id": "98e934f8",
   "metadata": {},
   "outputs": [
    {
     "name": "stdout",
     "output_type": "stream",
     "text": [
      "zhinooszhinooszhinoos\n",
      "--------------------------------------------------\n"
     ]
    }
   ],
   "source": [
    "name = \"zhinoos\"\n",
    "print(\"zhinoos\" *3)\n",
    "print(\"-----\"*10)"
   ]
  },
  {
   "cell_type": "code",
   "execution_count": 4,
   "id": "daa14feb",
   "metadata": {},
   "outputs": [
    {
     "name": "stdout",
     "output_type": "stream",
     "text": [
      "zhinoosadibi\n",
      "zhinoos adibi\n"
     ]
    }
   ],
   "source": [
    "# can we \"add\" strings??\n",
    "firstName = 'zhinoos'\n",
    "lastName  = 'adibi'\n",
    "\n",
    "print( firstName + lastName )\n",
    "print( firstName + ' ' + lastName )"
   ]
  },
  {
   "cell_type": "markdown",
   "id": "fcfdee67",
   "metadata": {},
   "source": [
    "## help in python"
   ]
  },
  {
   "cell_type": "code",
   "execution_count": null,
   "id": "8c89fae4",
   "metadata": {},
   "outputs": [],
   "source": [
    "# shift and tab in paranthesis reuturn the descriptin about function or method\n",
    "print()\n"
   ]
  },
  {
   "cell_type": "code",
   "execution_count": 19,
   "id": "5ef9b553",
   "metadata": {},
   "outputs": [],
   "source": [
    "print??"
   ]
  },
  {
   "cell_type": "code",
   "execution_count": null,
   "id": "10c0da1b",
   "metadata": {},
   "outputs": [],
   "source": [
    "# difference between method and function"
   ]
  },
  {
   "cell_type": "code",
   "execution_count": 21,
   "id": "eacdd385",
   "metadata": {},
   "outputs": [],
   "source": [
    "l1 = [\"a\",\"c\",\"v\"]\n",
    "# help(print)"
   ]
  },
  {
   "cell_type": "code",
   "execution_count": 21,
   "id": "7ed7d114",
   "metadata": {},
   "outputs": [],
   "source": [
    "print?"
   ]
  },
  {
   "cell_type": "code",
   "execution_count": null,
   "id": "32aee245",
   "metadata": {},
   "outputs": [],
   "source": [
    "l1.pop()"
   ]
  },
  {
   "cell_type": "code",
   "execution_count": 22,
   "id": "355ff800",
   "metadata": {},
   "outputs": [],
   "source": [
    "?print"
   ]
  },
  {
   "cell_type": "markdown",
   "id": "67a43428",
   "metadata": {},
   "source": [
    "## some point about lists"
   ]
  },
  {
   "cell_type": "code",
   "execution_count": 5,
   "id": "cb19d647",
   "metadata": {},
   "outputs": [
    {
     "data": {
      "text/plain": [
       "[3, 'three', 4, 'four']"
      ]
     },
     "execution_count": 5,
     "metadata": {},
     "output_type": "execute_result"
    }
   ],
   "source": [
    "mixList = [ 3,'three',4,'four' ]\n",
    "mixList"
   ]
  },
  {
   "cell_type": "code",
   "execution_count": null,
   "id": "7160238e",
   "metadata": {},
   "outputs": [],
   "source": [
    "# concat  two lists"
   ]
  },
  {
   "cell_type": "code",
   "execution_count": 23,
   "id": "096207bc",
   "metadata": {},
   "outputs": [
    {
     "data": {
      "text/plain": [
       "[1, 3, 4, 'a', 'b', 'c']"
      ]
     },
     "execution_count": 23,
     "metadata": {},
     "output_type": "execute_result"
    }
   ],
   "source": [
    "a_list = [1,3,4]\n",
    "b_list = [\"a\",\"b\",\"c\"]\n",
    "a_list +b_list"
   ]
  },
  {
   "cell_type": "markdown",
   "id": "9b200b50",
   "metadata": {},
   "source": [
    "## count method in list"
   ]
  },
  {
   "cell_type": "code",
   "execution_count": 24,
   "id": "eecd7b3c",
   "metadata": {},
   "outputs": [
    {
     "name": "stdout",
     "output_type": "stream",
     "text": [
      "2 \n",
      "\n",
      "\n",
      "3\n"
     ]
    }
   ],
   "source": [
    "count_list = ['a','a','c','d','d','d','d']\n",
    "print(count_list.count(\"a\"),\"\\n\\n\")\n",
    "print(count_list.index('d'))\n",
    "# count_list."
   ]
  },
  {
   "cell_type": "markdown",
   "id": "a10f3fc9",
   "metadata": {},
   "source": [
    "## Create a Nested List\n"
   ]
  },
  {
   "cell_type": "code",
   "execution_count": 25,
   "id": "f001bde9",
   "metadata": {},
   "outputs": [
    {
     "data": {
      "text/plain": [
       "[55, ['3', '8', '5'], 5, [4, 89, 6]]"
      ]
     },
     "execution_count": 25,
     "metadata": {},
     "output_type": "execute_result"
    }
   ],
   "source": [
    "# list in list\n",
    "listList = [ 55,['3','8','5'],5,[4,89,6] ]\n",
    "listList"
   ]
  },
  {
   "cell_type": "code",
   "execution_count": 33,
   "id": "695fe8fa",
   "metadata": {},
   "outputs": [
    {
     "name": "stdout",
     "output_type": "stream",
     "text": [
      "99 \n",
      " 45 \n",
      " 98 \n",
      "\n"
     ]
    }
   ],
   "source": [
    "a = 99\n",
    "b = 45\n",
    "c = 98\n",
    "print(a,\"\\n\",b,\"\\n\",c,\"\\n\")\n",
    "# print(b,\"\\n\")\n",
    "# print(c,\"\\n\")"
   ]
  },
  {
   "cell_type": "code",
   "execution_count": 28,
   "id": "a35c6d5f",
   "metadata": {},
   "outputs": [
    {
     "data": {
      "text/plain": [
       "6"
      ]
     },
     "execution_count": 28,
     "metadata": {},
     "output_type": "execute_result"
    }
   ],
   "source": [
    "listList[3][2]"
   ]
  },
  {
   "cell_type": "code",
   "execution_count": 26,
   "id": "1fdb746c",
   "metadata": {},
   "outputs": [
    {
     "data": {
      "text/plain": [
       "['3', '8']"
      ]
     },
     "execution_count": 26,
     "metadata": {},
     "output_type": "execute_result"
    }
   ],
   "source": [
    "listList[1][:2]"
   ]
  },
  {
   "cell_type": "code",
   "execution_count": 36,
   "id": "502b26f7",
   "metadata": {},
   "outputs": [
    {
     "data": {
      "text/plain": [
       "'b'"
      ]
     },
     "execution_count": 36,
     "metadata": {},
     "output_type": "execute_result"
    }
   ],
   "source": [
    "var_list = [\"a\",\"b\",\"c\",\"m\"]\n",
    "var_list[-2]"
   ]
  },
  {
   "cell_type": "code",
   "execution_count": 8,
   "id": "cfdd571f",
   "metadata": {},
   "outputs": [
    {
     "data": {
      "text/plain": [
       "'3'"
      ]
     },
     "execution_count": 8,
     "metadata": {},
     "output_type": "execute_result"
    }
   ],
   "source": [
    "#Access Nested List Items by Index\n",
    "\n",
    "listList[1][0]"
   ]
  },
  {
   "cell_type": "code",
   "execution_count": 36,
   "id": "4e197cf8",
   "metadata": {},
   "outputs": [
    {
     "name": "stdout",
     "output_type": "stream",
     "text": [
      "['cc', 'dd', ['eee', 'fff']] \n",
      "\n",
      "['eee', 'fff'] \n",
      "\n",
      "eee\n"
     ]
    }
   ],
   "source": [
    "#one more example\n",
    "\n",
    "L = ['mm', 'gg', ['cc', 'dd', ['eee', 'fff']], 'oo', 'h']\n",
    "\n",
    "print(L[-3],\"\\n\")\n",
    "\n",
    "print(L[-3][-1],\"\\n\")\n",
    "\n",
    "\n",
    "print(L[-3][-1][-2])\n"
   ]
  },
  {
   "cell_type": "markdown",
   "id": "2d418773",
   "metadata": {},
   "source": [
    "## Add items to a Nested list"
   ]
  },
  {
   "cell_type": "code",
   "execution_count": 12,
   "id": "4af502fa",
   "metadata": {},
   "outputs": [
    {
     "name": "stdout",
     "output_type": "stream",
     "text": [
      "['a', ['kk', 'cc', 'xx'], 'mm']\n"
     ]
    }
   ],
   "source": [
    "L = ['a', ['kk', 'cc'], 'mm']\n",
    "L[1].append('xx')\n",
    "print(L)"
   ]
  },
  {
   "cell_type": "code",
   "execution_count": 14,
   "id": "5a93e85f",
   "metadata": {},
   "outputs": [
    {
     "name": "stdout",
     "output_type": "stream",
     "text": [
      "['a', ['hh', 'nn', 'cc'], 'd']\n"
     ]
    }
   ],
   "source": [
    "L = ['a', ['nn', 'cc'], 'd']\n",
    "L[1].insert(0,'hh')\n",
    "print(L)"
   ]
  },
  {
   "cell_type": "markdown",
   "id": "35c40cb2",
   "metadata": {},
   "source": [
    "## Remove items from a Nested List"
   ]
  },
  {
   "cell_type": "code",
   "execution_count": 37,
   "id": "3f7f3ac8",
   "metadata": {},
   "outputs": [
    {
     "name": "stdout",
     "output_type": "stream",
     "text": [
      "pp\n",
      "pp\n"
     ]
    }
   ],
   "source": [
    "L2 = ['ll', ['kk', 'pp', 'gg'], 'ee']\n",
    "x = L2[1].pop(1)\n",
    "print(x)\n",
    "\n",
    "\n",
    "print(x)"
   ]
  },
  {
   "cell_type": "markdown",
   "id": "c36d6eee",
   "metadata": {},
   "source": [
    "## Dictionary"
   ]
  },
  {
   "cell_type": "code",
   "execution_count": 39,
   "id": "6467fa05",
   "metadata": {},
   "outputs": [],
   "source": [
    "my_dict = {\n",
    "  \"brand\": \"206\",\n",
    "  \"model\": \"tip5\",\n",
    "  \"year\":2020\n",
    "}\n"
   ]
  },
  {
   "cell_type": "markdown",
   "id": "0107d56c",
   "metadata": {},
   "source": [
    "## Get Keys\n"
   ]
  },
  {
   "cell_type": "code",
   "execution_count": 38,
   "id": "c7ad0d7c",
   "metadata": {},
   "outputs": [
    {
     "data": {
      "text/plain": [
       "dict_keys(['brand', 'model', 'year'])"
      ]
     },
     "execution_count": 38,
     "metadata": {},
     "output_type": "execute_result"
    }
   ],
   "source": [
    "# The keys() method will return a list of all the keys in the dictionary.\n",
    "my_dict.keys()\n"
   ]
  },
  {
   "cell_type": "code",
   "execution_count": 8,
   "id": "1d02567f",
   "metadata": {},
   "outputs": [
    {
     "name": "stdout",
     "output_type": "stream",
     "text": [
      "dict_keys(['brand', 'model', 'year']) \n",
      "\n",
      "\n",
      "<class 'dict_keys'>\n"
     ]
    }
   ],
   "source": [
    "keys_dict=my_dict.keys()\n",
    "print(keys_dict,\"\\n\\n\")\n",
    "print(type(keys_dict))"
   ]
  },
  {
   "cell_type": "markdown",
   "id": "18a1804a",
   "metadata": {},
   "source": [
    "## Get Values\n"
   ]
  },
  {
   "cell_type": "code",
   "execution_count": 40,
   "id": "18e7c98e",
   "metadata": {},
   "outputs": [
    {
     "data": {
      "text/plain": [
       "{'brand': '206', 'model': 'tip5', 'year': 2020}"
      ]
     },
     "execution_count": 40,
     "metadata": {},
     "output_type": "execute_result"
    }
   ],
   "source": [
    "my_dict"
   ]
  },
  {
   "cell_type": "code",
   "execution_count": 39,
   "id": "fb39c74c",
   "metadata": {},
   "outputs": [
    {
     "data": {
      "text/plain": [
       "dict_values(['206', 'tip5', 2020])"
      ]
     },
     "execution_count": 39,
     "metadata": {},
     "output_type": "execute_result"
    }
   ],
   "source": [
    "# The values() method will return a list of all the values in the dictionary\n",
    "my_dict.values()"
   ]
  },
  {
   "cell_type": "markdown",
   "id": "0692a5d1",
   "metadata": {},
   "source": [
    "## Get items\n"
   ]
  },
  {
   "cell_type": "code",
   "execution_count": 40,
   "id": "861d2fec",
   "metadata": {},
   "outputs": [
    {
     "data": {
      "text/plain": [
       "dict_items([('brand', '206'), ('model', 'tip5'), ('year', 2020)])"
      ]
     },
     "execution_count": 40,
     "metadata": {},
     "output_type": "execute_result"
    }
   ],
   "source": [
    "# The items() method will return each item in a dictionary, as tuples in a list\n",
    "my_dict.items()"
   ]
  },
  {
   "cell_type": "code",
   "execution_count": 9,
   "id": "2c053c65",
   "metadata": {},
   "outputs": [],
   "source": [
    "my_dict = {\n",
    "  \"brand\": \"206\",\n",
    "  \"model\": \"tip5\",\n",
    "  \"year\":2020\n",
    "}\n"
   ]
  },
  {
   "cell_type": "markdown",
   "id": "412e2438",
   "metadata": {},
   "source": [
    "## Change Values\n"
   ]
  },
  {
   "cell_type": "code",
   "execution_count": 41,
   "id": "ec18fba1",
   "metadata": {},
   "outputs": [
    {
     "data": {
      "text/plain": [
       "{'brand': '206', 'model': 'tip5', 'year': 2023}"
      ]
     },
     "execution_count": 41,
     "metadata": {},
     "output_type": "execute_result"
    }
   ],
   "source": [
    "my_dict[\"year\"]=2023\n",
    "my_dict"
   ]
  },
  {
   "cell_type": "code",
   "execution_count": null,
   "id": "396c9ef4",
   "metadata": {},
   "outputs": [],
   "source": []
  },
  {
   "cell_type": "code",
   "execution_count": null,
   "id": "013757c5",
   "metadata": {},
   "outputs": [],
   "source": []
  },
  {
   "cell_type": "markdown",
   "id": "6ec77e3f",
   "metadata": {},
   "source": [
    "## Adding Items\n"
   ]
  },
  {
   "cell_type": "code",
   "execution_count": null,
   "id": "96668ea5",
   "metadata": {},
   "outputs": [],
   "source": [
    "# Adding an item to the dictionary is done by using a new  key and assigning a value to it\n"
   ]
  },
  {
   "cell_type": "code",
   "execution_count": 44,
   "id": "87ac7595",
   "metadata": {},
   "outputs": [],
   "source": [
    "my_dict[\"color\"] = \"red\""
   ]
  },
  {
   "cell_type": "code",
   "execution_count": 45,
   "id": "69d02199",
   "metadata": {},
   "outputs": [
    {
     "data": {
      "text/plain": [
       "{'brand': '206', 'model': 'tip5', 'year': 2023, 'color': 'red'}"
      ]
     },
     "execution_count": 45,
     "metadata": {},
     "output_type": "execute_result"
    }
   ],
   "source": [
    "my_dict"
   ]
  },
  {
   "cell_type": "markdown",
   "id": "e0c70d10",
   "metadata": {},
   "source": [
    "## pop method"
   ]
  },
  {
   "cell_type": "code",
   "execution_count": 42,
   "id": "9c9e2e79",
   "metadata": {},
   "outputs": [
    {
     "name": "stdout",
     "output_type": "stream",
     "text": [
      "{'brand': '206', 'year': 2020}\n"
     ]
    }
   ],
   "source": [
    "my_dict = {\n",
    "  \"brand\": \"206\",\n",
    "  \"model\": \"tip5\",\n",
    "  \"year\":2020\n",
    "}\n",
    "my_dict.pop(\"model\")\n",
    "print(my_dict)"
   ]
  },
  {
   "cell_type": "code",
   "execution_count": 47,
   "id": "8036a13e",
   "metadata": {},
   "outputs": [
    {
     "name": "stdout",
     "output_type": "stream",
     "text": [
      "{'brand': '206', 'year': 2020} \n",
      "\n",
      "\n",
      "tip5\n"
     ]
    }
   ],
   "source": [
    "my_dict = {\n",
    "  \"brand\": \"206\",\n",
    "  \"model\": \"tip5\",\n",
    "  \"year\":2020\n",
    "}\n",
    "pop_var = my_dict.pop(\"model\")\n",
    "print(my_dict,\"\\n\\n\")\n",
    "print(pop_var)\n",
    "my_dict\n"
   ]
  },
  {
   "cell_type": "code",
   "execution_count": 44,
   "id": "ff82f130",
   "metadata": {},
   "outputs": [
    {
     "data": {
      "text/plain": [
       "{'color': 'red'}"
      ]
     },
     "execution_count": 44,
     "metadata": {},
     "output_type": "execute_result"
    }
   ],
   "source": [
    "dic_2 = {}\n",
    "dic_2[\"color\"] = \"red\"\n",
    "dic_2"
   ]
  },
  {
   "cell_type": "code",
   "execution_count": 45,
   "id": "a77083b7",
   "metadata": {},
   "outputs": [
    {
     "data": {
      "text/plain": [
       "{'color': 'green'}"
      ]
     },
     "execution_count": 45,
     "metadata": {},
     "output_type": "execute_result"
    }
   ],
   "source": [
    "dic_2[\"color\"] = \"green\"\n",
    "dic_2"
   ]
  },
  {
   "cell_type": "code",
   "execution_count": null,
   "id": "63391516",
   "metadata": {},
   "outputs": [],
   "source": [
    "# list_1 = []"
   ]
  },
  {
   "cell_type": "markdown",
   "id": "d28805c6",
   "metadata": {},
   "source": [
    "## Loop Through a Dictionary"
   ]
  },
  {
   "cell_type": "code",
   "execution_count": null,
   "id": "41ea3597",
   "metadata": {},
   "outputs": [],
   "source": [
    "# can loop through a dictionary by using a for loop.\n"
   ]
  },
  {
   "cell_type": "code",
   "execution_count": 46,
   "id": "da2d3e11",
   "metadata": {},
   "outputs": [
    {
     "name": "stdout",
     "output_type": "stream",
     "text": [
      "{'brand': '206', 'model': 'tip5', 'year': 2020}\n"
     ]
    }
   ],
   "source": [
    "my_dict = {\n",
    "  \"brand\": \"206\",\n",
    "  \"model\": \"tip5\",\n",
    "  \"year\":2020\n",
    "}\n",
    "print(my_dict)"
   ]
  },
  {
   "cell_type": "code",
   "execution_count": 47,
   "id": "88661af6",
   "metadata": {},
   "outputs": [
    {
     "name": "stdout",
     "output_type": "stream",
     "text": [
      "brand\n",
      "model\n",
      "year\n"
     ]
    }
   ],
   "source": [
    "for x in my_dict:\n",
    "    print(x)"
   ]
  },
  {
   "cell_type": "code",
   "execution_count": null,
   "id": "c7deb909",
   "metadata": {},
   "outputs": [],
   "source": []
  },
  {
   "cell_type": "code",
   "execution_count": 48,
   "id": "376eb981",
   "metadata": {},
   "outputs": [
    {
     "name": "stdout",
     "output_type": "stream",
     "text": [
      "brand\n",
      "model\n",
      "year\n"
     ]
    }
   ],
   "source": [
    "for x in my_dict.keys():\n",
    "    print(x)"
   ]
  },
  {
   "cell_type": "markdown",
   "id": "9d763048",
   "metadata": {},
   "source": [
    "## access values in dictionary"
   ]
  },
  {
   "cell_type": "code",
   "execution_count": 51,
   "id": "1eef8743",
   "metadata": {},
   "outputs": [
    {
     "name": "stdout",
     "output_type": "stream",
     "text": [
      "{'brand': '206', 'model': 'tip5', 'year': 2020}\n"
     ]
    }
   ],
   "source": [
    "my_dict = {\n",
    "  \"brand\": \"206\",\n",
    "  \"model\": \"tip5\",\n",
    "  \"year\":2020\n",
    "}\n",
    "print(my_dict)"
   ]
  },
  {
   "cell_type": "code",
   "execution_count": 49,
   "id": "6c490f82",
   "metadata": {},
   "outputs": [
    {
     "name": "stdout",
     "output_type": "stream",
     "text": [
      "206\n",
      "tip5\n",
      "2020\n"
     ]
    }
   ],
   "source": [
    "# can also use the values() method to return values of a dictionary:\n",
    "\n",
    "for x in my_dict.values():\n",
    "    print(x)"
   ]
  },
  {
   "cell_type": "code",
   "execution_count": 55,
   "id": "d136699d",
   "metadata": {},
   "outputs": [
    {
     "name": "stdout",
     "output_type": "stream",
     "text": [
      "3\n"
     ]
    }
   ],
   "source": [
    "print(len(my_dict))"
   ]
  },
  {
   "cell_type": "markdown",
   "id": "033c99ba",
   "metadata": {},
   "source": [
    "### Loop through both keys and values, by using the items() method:"
   ]
  },
  {
   "cell_type": "code",
   "execution_count": 19,
   "id": "5df17073",
   "metadata": {},
   "outputs": [
    {
     "name": "stdout",
     "output_type": "stream",
     "text": [
      "{'brand': '206', 'model': 'tip5', 'year': 2020}\n"
     ]
    }
   ],
   "source": [
    "my_dict = {\n",
    "  \"brand\": \"206\",\n",
    "  \"model\": \"tip5\",\n",
    "  \"year\":2020\n",
    "}\n",
    "print(my_dict)"
   ]
  },
  {
   "cell_type": "code",
   "execution_count": 50,
   "id": "bd4f09f4",
   "metadata": {},
   "outputs": [
    {
     "name": "stdout",
     "output_type": "stream",
     "text": [
      "brand 206\n",
      "model tip5\n",
      "year 2020\n"
     ]
    }
   ],
   "source": [
    "for x, y in my_dict.items():\n",
    "    print(x, y)"
   ]
  },
  {
   "cell_type": "code",
   "execution_count": 60,
   "id": "f69d7f1f",
   "metadata": {},
   "outputs": [
    {
     "name": "stdout",
     "output_type": "stream",
     "text": [
      "brand\n",
      "model\n",
      "year\n"
     ]
    }
   ],
   "source": [
    "for  y , x in my_dict.items():\n",
    "    print(y)"
   ]
  },
  {
   "cell_type": "markdown",
   "id": "3d6b9939",
   "metadata": {},
   "source": [
    "### Copy a Dictionary\n",
    "### You cannot copy a dictionary simply by typing dict2 = dict1, because: dict2 will only be a reference to dict1, and changes made in dict1 will automatically also be made in dict2.\n",
    "\n",
    "### There are ways to make a copy, one way is to use the built-in Dictionary method copy()\n",
    "\n",
    "refrence: https://www.w3schools.com/python/python_dictionaries_copy.asp\n"
   ]
  },
  {
   "cell_type": "code",
   "execution_count": null,
   "id": "85d7b427",
   "metadata": {},
   "outputs": [],
   "source": []
  },
  {
   "cell_type": "code",
   "execution_count": 51,
   "id": "a7332a9e",
   "metadata": {},
   "outputs": [
    {
     "data": {
      "text/plain": [
       "{'brand': '206', 'model': 'tip5', 'year': 2020}"
      ]
     },
     "execution_count": 51,
     "metadata": {},
     "output_type": "execute_result"
    }
   ],
   "source": [
    "my_dict_1 = {\n",
    "  \"brand\": \"206\",\n",
    "  \"model\": \"tip5\",\n",
    "  \"year\":2020\n",
    "}\n",
    "my_dict_1"
   ]
  },
  {
   "cell_type": "code",
   "execution_count": 69,
   "id": "64dc2310",
   "metadata": {},
   "outputs": [],
   "source": [
    "my_dict_2= my_dict_1.copy()"
   ]
  },
  {
   "cell_type": "code",
   "execution_count": 70,
   "id": "36e24bc7",
   "metadata": {},
   "outputs": [],
   "source": [
    "my_dict_2 = my_dict_1"
   ]
  },
  {
   "cell_type": "code",
   "execution_count": 65,
   "id": "8472e9a5",
   "metadata": {},
   "outputs": [],
   "source": [
    "# my_list = []\n"
   ]
  },
  {
   "cell_type": "code",
   "execution_count": 71,
   "id": "53932313",
   "metadata": {},
   "outputs": [
    {
     "name": "stdout",
     "output_type": "stream",
     "text": [
      "{'brand': '206', 'model': 'tip5', 'year': 2020}\n"
     ]
    }
   ],
   "source": [
    "my_dict = {\n",
    "  \"brand\": \"206\",\n",
    "  \"model\": \"tip5\",\n",
    "  \"year\":2020\n",
    "}\n",
    "\n",
    "\n",
    "mydict2 = my_dict.copy()\n",
    "print(mydict2)"
   ]
  },
  {
   "cell_type": "code",
   "execution_count": null,
   "id": "601975d6",
   "metadata": {},
   "outputs": [],
   "source": []
  }
 ],
 "metadata": {
  "kernelspec": {
   "display_name": "Python 3",
   "language": "python",
   "name": "python3"
  },
  "language_info": {
   "codemirror_mode": {
    "name": "ipython",
    "version": 3
   },
   "file_extension": ".py",
   "mimetype": "text/x-python",
   "name": "python",
   "nbconvert_exporter": "python",
   "pygments_lexer": "ipython3",
   "version": "3.9.6"
  }
 },
 "nbformat": 4,
 "nbformat_minor": 5
}
