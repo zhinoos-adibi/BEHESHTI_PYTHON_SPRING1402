{
 "cells": [
  {
   "cell_type": "markdown",
   "id": "47c81b3c",
   "metadata": {},
   "source": [
    "## Tuple\n",
    "#### Tuples are used to store multiple items in a single variable.\n",
    "\n",
    "#### Tuple is one of 4 built-in data types in Python used to store collections of data, the other 3 are List, Set, and Dictionary, all with different qualities and usage.\n",
    "\n",
    "#### A tuple is a collection which is ordered and unchangeable.\n",
    "\n"
   ]
  },
  {
   "cell_type": "code",
   "execution_count": null,
   "id": "942de4cd",
   "metadata": {},
   "outputs": [],
   "source": [
    "# Tuple Items\n",
    "# Tuple items are ordered, unchangeable, and allow duplicate values.\n",
    "\n",
    "# Tuple items are indexed, the first item has index [0], the second item has index [1] etc."
   ]
  },
  {
   "cell_type": "code",
   "execution_count": 1,
   "id": "3637dc30",
   "metadata": {},
   "outputs": [
    {
     "name": "stdout",
     "output_type": "stream",
     "text": [
      "('java', 'python', 'C++')\n"
     ]
    }
   ],
   "source": [
    "my_tuple = (\"java\", \"python\", \"C++\")\n",
    "print(my_tuple)"
   ]
  },
  {
   "cell_type": "code",
   "execution_count": 2,
   "id": "baeda014",
   "metadata": {},
   "outputs": [
    {
     "name": "stdout",
     "output_type": "stream",
     "text": [
      "('java', 'python', 'C++')\n"
     ]
    }
   ],
   "source": [
    "my_tuple = \"java\", \"python\", \"C++\"\n",
    "print(my_tuple)"
   ]
  },
  {
   "cell_type": "code",
   "execution_count": 3,
   "id": "23235d27",
   "metadata": {},
   "outputs": [
    {
     "name": "stdout",
     "output_type": "stream",
     "text": [
      "java\n"
     ]
    }
   ],
   "source": [
    "print(my_tuple[0])"
   ]
  },
  {
   "cell_type": "code",
   "execution_count": 15,
   "id": "f5625ba7",
   "metadata": {},
   "outputs": [
    {
     "name": "stdout",
     "output_type": "stream",
     "text": [
      "('java', 'python', 'C++')\n",
      "<class 'tuple'>\n"
     ]
    }
   ],
   "source": [
    "my_tuple_2 = \"java\", \"python\", \"C++\"\n",
    "print(my_tuple_2)\n",
    "print(type(my_tuple_2))"
   ]
  },
  {
   "cell_type": "code",
   "execution_count": null,
   "id": "21efbe9f",
   "metadata": {},
   "outputs": [],
   "source": [
    "# tuple vs list\n",
    "# list is mutable\n",
    "# tuple is immutable"
   ]
  },
  {
   "cell_type": "code",
   "execution_count": 5,
   "id": "bb902772",
   "metadata": {},
   "outputs": [],
   "source": [
    "list_1 = ['a','b','c']\n",
    "tuple_1 = ('d','e','f')"
   ]
  },
  {
   "cell_type": "code",
   "execution_count": 6,
   "id": "c594b4c4",
   "metadata": {},
   "outputs": [
    {
     "data": {
      "text/plain": [
       "['aa', 'b', 'c']"
      ]
     },
     "execution_count": 6,
     "metadata": {},
     "output_type": "execute_result"
    }
   ],
   "source": [
    "list_1[0] = 'aa'\n",
    "list_1"
   ]
  },
  {
   "cell_type": "code",
   "execution_count": 7,
   "id": "58f0ff09",
   "metadata": {},
   "outputs": [
    {
     "ename": "TypeError",
     "evalue": "'tuple' object does not support item assignment",
     "output_type": "error",
     "traceback": [
      "\u001b[1;31m---------------------------------------------------------------------------\u001b[0m",
      "\u001b[1;31mTypeError\u001b[0m                                 Traceback (most recent call last)",
      "\u001b[1;32m<ipython-input-7-1c4f149a6c84>\u001b[0m in \u001b[0;36m<module>\u001b[1;34m\u001b[0m\n\u001b[1;32m----> 1\u001b[1;33m \u001b[0mtuple_1\u001b[0m\u001b[1;33m[\u001b[0m\u001b[1;36m0\u001b[0m\u001b[1;33m]\u001b[0m\u001b[1;33m=\u001b[0m\u001b[1;34m'dd'\u001b[0m\u001b[1;33m\u001b[0m\u001b[1;33m\u001b[0m\u001b[0m\n\u001b[0m\u001b[0;32m      2\u001b[0m \u001b[0mtuple_1\u001b[0m\u001b[1;33m\u001b[0m\u001b[1;33m\u001b[0m\u001b[0m\n",
      "\u001b[1;31mTypeError\u001b[0m: 'tuple' object does not support item assignment"
     ]
    }
   ],
   "source": [
    "tuple_1[0]='dd'\n",
    "tuple_1"
   ]
  },
  {
   "cell_type": "code",
   "execution_count": 8,
   "id": "d56b7b9e",
   "metadata": {},
   "outputs": [
    {
     "data": {
      "text/plain": [
       "('abc', 34, False, 40, 'baby')"
      ]
     },
     "execution_count": 8,
     "metadata": {},
     "output_type": "execute_result"
    }
   ],
   "source": [
    "tuple2 = (\"abc\", 34, False, 40, \"baby\")\n",
    "tuple2"
   ]
  },
  {
   "cell_type": "code",
   "execution_count": 9,
   "id": "a56db8ae",
   "metadata": {},
   "outputs": [
    {
     "data": {
      "text/plain": [
       "('abc', 34)"
      ]
     },
     "execution_count": 9,
     "metadata": {},
     "output_type": "execute_result"
    }
   ],
   "source": [
    "tuple2[0:2]"
   ]
  },
  {
   "cell_type": "code",
   "execution_count": null,
   "id": "88b9adee",
   "metadata": {},
   "outputs": [],
   "source": []
  }
 ],
 "metadata": {
  "kernelspec": {
   "display_name": "Python 3",
   "language": "python",
   "name": "python3"
  },
  "language_info": {
   "codemirror_mode": {
    "name": "ipython",
    "version": 3
   },
   "file_extension": ".py",
   "mimetype": "text/x-python",
   "name": "python",
   "nbconvert_exporter": "python",
   "pygments_lexer": "ipython3",
   "version": "3.9.6"
  }
 },
 "nbformat": 4,
 "nbformat_minor": 5
}
